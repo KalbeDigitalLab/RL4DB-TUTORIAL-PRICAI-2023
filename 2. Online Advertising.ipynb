{
 "cells": [
  {
   "cell_type": "markdown",
   "metadata": {},
   "source": [
    "# Create Environment"
   ]
  },
  {
   "cell_type": "code",
   "execution_count": 1,
   "metadata": {},
   "outputs": [],
   "source": [
    "import numpy as np\n",
    "\n",
    "class BernoulliBandit(object):\n",
    "    def __init__(self, p):\n",
    "        self.p = p\n",
    "\n",
    "    def display_ad(self):\n",
    "        reward = np.random.binomial(n=1, p=self.p)\n",
    "        return reward"
   ]
  },
  {
   "cell_type": "code",
   "execution_count": 2,
   "metadata": {},
   "outputs": [],
   "source": [
    "adA = BernoulliBandit(0.004)\n",
    "adB = BernoulliBandit(0.016)\n",
    "adC = BernoulliBandit(0.02)\n",
    "adD = BernoulliBandit(0.028)\n",
    "adE = BernoulliBandit(0.031)\n",
    "ads = [adA, adB, adC, adD, adE]"
   ]
  },
  {
   "cell_type": "code",
   "execution_count": null,
   "metadata": {},
   "outputs": [],
   "source": []
  }
 ],
 "metadata": {
  "kernelspec": {
   "display_name": ".env-pricai",
   "language": "python",
   "name": "python3"
  },
  "language_info": {
   "codemirror_mode": {
    "name": "ipython",
    "version": 3
   },
   "file_extension": ".py",
   "mimetype": "text/x-python",
   "name": "python",
   "nbconvert_exporter": "python",
   "pygments_lexer": "ipython3",
   "version": "3.10.10"
  },
  "orig_nbformat": 4
 },
 "nbformat": 4,
 "nbformat_minor": 2
}
