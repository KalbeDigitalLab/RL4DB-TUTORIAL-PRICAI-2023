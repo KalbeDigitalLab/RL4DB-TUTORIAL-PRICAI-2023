{
 "cells": [
  {
   "cell_type": "markdown",
   "metadata": {},
   "source": [
    "# Solve Online Advertising Problem with Thompson Sampling"
   ]
  },
  {
   "cell_type": "markdown",
   "metadata": {},
   "source": [
    "## Create Environment"
   ]
  },
  {
   "cell_type": "markdown",
   "metadata": {},
   "source": [
    "This code simulates an environment for online advertising using the concept of Bernoulli Bandits. In online advertising, companies often need to decide which ad to display to users in real-time to maximize their click-through rates (CTR) or other performance metrics. The Bernoulli Bandit model is a simplified framework that represents this problem."
   ]
  },
  {
   "cell_type": "markdown",
   "metadata": {},
   "source": [
    "### Code Description\n",
    "\n",
    "#### Constructor:\n",
    "- The `BernoulliBandit` class has a constructor `__init__(self, p)` that takes a single parameter `p`.\n",
    "- The parameter `p` represents the probability of a user clicking on the ad when it is displayed. It is a value between 0 and 1.\n",
    "\n",
    "#### Method: `display_ad()`\n",
    "- The `display_ad()` method simulates displaying the ad to a user and returns the outcome of the ad display as a binary value (0 or 1).\n",
    "- It uses the `numpy.random.binomial(n=1, p=self.p)` function to model the Bernoulli distribution with a single trial (n=1).\n",
    "- The parameter `p` determines the probability of success (click) for the Bernoulli distribution."
   ]
  },
  {
   "cell_type": "code",
   "execution_count": 1,
   "metadata": {},
   "outputs": [],
   "source": [
    "import numpy as np\n",
    "\n",
    "class BernoulliBandit:\n",
    "    def __init__(self, p):\n",
    "        self.p = p\n",
    "\n",
    "    def display_ad(self):\n",
    "        reward = np.random.binomial(n=1, p=self.p)\n",
    "        return reward"
   ]
  },
  {
   "cell_type": "markdown",
   "metadata": {},
   "source": [
    "In this code, five different ads (`adA`, `adB`, `adC`, `adD`, and `adE`) are created as instances of the `BernoulliBandit` class, each with its own click-through probability (`p`). These probabilities represent how likely a user is to click on the respective ad when displayed.\n",
    "\n",
    "The `ads` list contains all the ad instances, allowing for easy management and comparison of different ads."
   ]
  },
  {
   "cell_type": "code",
   "execution_count": 2,
   "metadata": {},
   "outputs": [],
   "source": [
    "adA = BernoulliBandit(0.004)\n",
    "adB = BernoulliBandit(0.016)\n",
    "adC = BernoulliBandit(0.02)\n",
    "adD = BernoulliBandit(0.028)\n",
    "adE = BernoulliBandit(0.031)\n",
    "ads = [adA, adB, adC, adD, adE]"
   ]
  },
  {
   "cell_type": "markdown",
   "metadata": {},
   "source": [
    "In the context of online advertising, each ad instance in the ads list represents a different ad creative that the company wants to test. The goal is to determine which ad has the highest click-through rate (CTR) or conversion rate.\n",
    "\n",
    "To simulate the online advertising process, the company can use the display_ad() method of each ad instance to obtain a reward (0 or 1) based on the Bernoulli distribution with the corresponding click-through probability. The company can then analyze the rewards obtained for each ad and use the results to make informed decisions about which ad(s) to display more frequently to maximize their overall performance."
   ]
  },
  {
   "cell_type": "markdown",
   "metadata": {},
   "source": [
    "## Thompson Sampling Algorithm for Multi-Armed Bandit Problem"
   ]
  },
  {
   "cell_type": "markdown",
   "metadata": {},
   "source": [
    "The Thompson Sampling algorithm is a probabilistic approach to solving the Multi-Armed Bandit problem. It elegantly balances the exploration and exploitation trade-off by utilizing probability distributions to guide the selection of actions (arms) in an adaptive manner. This algorithm is particularly suitable for scenarios where the true reward distributions of the arms are uncertain and subject to change.\n",
    "\n",
    "The fundamental idea behind Thompson Sampling is to maintain a belief about the true reward probabilities associated with each arm. This belief is represented using probability distributions. Instead of solely selecting the arm with the highest expected reward (exploitation), Thompson Sampling also considers the uncertainty in its beliefs. It selects arms probabilistically based on these beliefs, thus allowing exploration of potentially promising arms."
   ]
  },
  {
   "cell_type": "markdown",
   "metadata": {},
   "source": [
    "In this code, ad variations are treated as arms, and the algorithm dynamically adjusts its arm selection strategy based on observed rewards. It leverages the Beta distribution to capture uncertainty in the reward probabilities and make informed decisions. The code loops through a specified number of iterations (n_prod) and follows the algorithm steps described above. The resulting average rewards over time are stored in the avg_rewards list for analysis and visualization. Thompson Sampling is a powerful approach that naturally balances exploration and exploitation, making it an attractive solution for scenarios with uncertainty and changing reward distributions"
   ]
  },
  {
   "cell_type": "markdown",
   "metadata": {},
   "source": [
    "### Algorithm Steps"
   ]
  },
  {
   "cell_type": "markdown",
   "metadata": {},
   "source": [
    "#### 1. Initialization\n",
    "- `n_prod` is the total number of iterations (time steps) to run the algorithm.\n",
    "- `n_ads` represents the number of ad variations (arms).\n",
    "- `alpahas` and `betas` are arrays to store the parameters of the Beta distribution for each arm. They are initialized with ones, which is a common initialization choice.\n",
    "\n",
    "#### 2. Arm Selection\n",
    "- The loop iterates through each time step.\n",
    "- For each arm, a sample is drawn from a Beta distribution using the parameters from `alpahas` and `betas`. This sample represents the algorithm's belief about the arm's true reward probability (`theta`).\n",
    "- The arm with the highest sampled `theta` is selected as the chosen arm (`ad_chosen`).\n",
    "\n",
    "#### 3. Observing Rewards and Updating Parameters\n",
    "- The chosen arm is displayed to users, and its reward is observed (`R`).\n",
    "- The parameters `alpahas` and `betas` are updated based on the observed reward:\n",
    "  - `alpahas` is increased by the reward (if the ad was successful).\n",
    "  - `betas` is increased by the complement of the reward (if the ad was not successful).\n",
    "\n",
    "#### 4. Calculating and Recording Rewards\n",
    "- The total reward obtained so far is updated by adding the observed reward (`R`).\n",
    "- The average reward obtained up to the current time step is calculated and stored in `avg_rewards_so_far`.\n",
    "- The `avg_rewards_so_far` value is appended to the `avg_rewards` list, capturing the algorithm's performance over time."
   ]
  },
  {
   "cell_type": "code",
   "execution_count": 3,
   "metadata": {},
   "outputs": [],
   "source": [
    "n_prod = 100000\n",
    "n_ads = len(ads)\n",
    "alpahas = np.ones(n_ads)\n",
    "betas = np.ones(n_ads)\n",
    "total_reward = 0\n",
    "avg_rewards = []"
   ]
  },
  {
   "cell_type": "code",
   "execution_count": 4,
   "metadata": {},
   "outputs": [],
   "source": [
    "for i in range(n_prod):\n",
    "    theta_samples = [np.random.beta(alpahas[k], betas[k]) for k in range(n_ads)]\n",
    "    ad_chosen = np.argmax(theta_samples)\n",
    "    R = ads[ad_chosen].display_ad()\n",
    "    alpahas[ad_chosen] += R\n",
    "    betas[ad_chosen] += 1 - R\n",
    "    total_reward += R\n",
    "    avg_rewards_so_far = total_reward / (i + 1)\n",
    "    avg_rewards.append(avg_rewards_so_far)"
   ]
  },
  {
   "cell_type": "code",
   "execution_count": 5,
   "metadata": {},
   "outputs": [],
   "source": [
    "import pandas as pd\n",
    "\n",
    "df_reward_comparison = pd.DataFrame()\n",
    "df_reward_comparison['Thompson Sampling'] = avg_rewards"
   ]
  },
  {
   "cell_type": "markdown",
   "metadata": {},
   "source": [
    "## Plot"
   ]
  },
  {
   "cell_type": "code",
   "execution_count": null,
   "metadata": {},
   "outputs": [],
   "source": [
    "import cufflinks as cf\n",
    "\n",
    "cf.go_offline()\n",
    "cf.set_config_file(world_readable=True, theme=\"white\")\n",
    "\n",
    "\n",
    "df_reward_comparison['Thompson Sampling'].iplot(\n",
    "    title=\"Thompson Sampling Avg. Reward: {:.4f}\".format(avg_rewards_so_far), \n",
    "    xTitle='Impressions', \n",
    "    yTitle='Avg. Reward'\n",
    ")"
   ]
  },
  {
   "cell_type": "code",
   "execution_count": 7,
   "metadata": {},
   "outputs": [
    {
     "data": {
      "image/png": "[encoded data removed]",
      "text/plain": [
       "<Figure size 1000x600 with 1 Axes>"
      ]
     },
     "metadata": {},
     "output_type": "display_data"
    }
   ],
   "source": [
    "import matplotlib.pyplot as plt\n",
    "\n",
    "# Extract Thompson Sampling rewards from DataFrame\n",
    "thompson_rewards = df_reward_comparison['Thompson Sampling']\n",
    "\n",
    "plt.figure(figsize=(10, 6))\n",
    "plt.plot(thompson_rewards, label='Thompson Sampling', color='blue')\n",
    "plt.title(\"Thompson Sampling Avg. Reward: {:.4f}\".format(avg_rewards_so_far))\n",
    "plt.xlabel('Impressions')\n",
    "plt.ylabel('Avg. Reward')\n",
    "plt.legend()\n",
    "plt.show()"
   ]
  },
  {
   "cell_type": "code",
   "execution_count": null,
   "metadata": {},
   "outputs": [],
   "source": []
  }
 ],
 "metadata": {
  "kernelspec": {
   "display_name": ".env-pricai",
   "language": "python",
   "name": "python3"
  },
  "language_info": {
   "codemirror_mode": {
    "name": "ipython",
    "version": 3
   },
   "file_extension": ".py",
   "mimetype": "text/x-python",
   "name": "python",
   "nbconvert_exporter": "python",
   "pygments_lexer": "ipython3",
   "version": "3.10.10"
  },
  "orig_nbformat": 4
 },
 "nbformat": 4,
 "nbformat_minor": 2
}
