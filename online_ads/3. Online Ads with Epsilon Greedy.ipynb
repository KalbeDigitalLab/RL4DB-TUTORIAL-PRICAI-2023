{
 "cells": [
  {
   "cell_type": "markdown",
   "metadata": {},
   "source": [
    "# Solve Online Advertising Problem with Epsilon Greedy"
   ]
  },
  {
   "cell_type": "markdown",
   "metadata": {},
   "source": [
    "## Create Environment"
   ]
  },
  {
   "cell_type": "markdown",
   "metadata": {},
   "source": [
    "This code simulates an environment for online advertising using the concept of Bernoulli Bandits. In online advertising, companies often need to decide which ad to display to users in real-time to maximize their click-through rates (CTR) or other performance metrics. The Bernoulli Bandit model is a simplified framework that represents this problem."
   ]
  },
  {
   "cell_type": "markdown",
   "metadata": {},
   "source": [
    "### Code Description\n",
    "\n",
    "#### Constructor:\n",
    "- The `BernoulliBandit` class has a constructor `__init__(self, p)` that takes a single parameter `p`.\n",
    "- The parameter `p` represents the probability of a user clicking on the ad when it is displayed. It is a value between 0 and 1.\n",
    "\n",
    "#### Method: `display_ad()`\n",
    "- The `display_ad()` method simulates displaying the ad to a user and returns the outcome of the ad display as a binary value (0 or 1).\n",
    "- It uses the `numpy.random.binomial(n=1, p=self.p)` function to model the Bernoulli distribution with a single trial (n=1).\n",
    "- The parameter `p` determines the probability of success (click) for the Bernoulli distribution."
   ]
  },
  {
   "cell_type": "code",
   "execution_count": 1,
   "metadata": {},
   "outputs": [],
   "source": [
    "import numpy as np\n",
    "\n",
    "class BernoulliBandit(object):\n",
    "    def __init__(self, p):\n",
    "        self.p = p\n",
    "\n",
    "    def display_ad(self):\n",
    "        reward = np.random.binomial(n=1, p=self.p)\n",
    "        return reward"
   ]
  },
  {
   "cell_type": "markdown",
   "metadata": {},
   "source": [
    "In this code, five different ads (`adA`, `adB`, `adC`, `adD`, and `adE`) are created as instances of the `BernoulliBandit` class, each with its own click-through probability (`p`). These probabilities represent how likely a user is to click on the respective ad when displayed.\n",
    "\n",
    "The `ads` list contains all the ad instances, allowing for easy management and comparison of different ads."
   ]
  },
  {
   "cell_type": "code",
   "execution_count": 2,
   "metadata": {},
   "outputs": [],
   "source": [
    "adA = BernoulliBandit(0.004)\n",
    "adB = BernoulliBandit(0.016)\n",
    "adC = BernoulliBandit(0.02)\n",
    "adD = BernoulliBandit(0.028)\n",
    "adE = BernoulliBandit(0.031)\n",
    "ads = [adA, adB, adC, adD, adE]"
   ]
  },
  {
   "cell_type": "markdown",
   "metadata": {},
   "source": [
    "In the context of online advertising, each ad instance in the ads list represents a different ad creative that the company wants to test. The goal is to determine which ad has the highest click-through rate (CTR) or conversion rate.\n",
    "\n",
    "To simulate the online advertising process, the company can use the display_ad() method of each ad instance to obtain a reward (0 or 1) based on the Bernoulli distribution with the corresponding click-through probability. The company can then analyze the rewards obtained for each ad and use the results to make informed decisions about which ad(s) to display more frequently to maximize their overall performance."
   ]
  },
  {
   "cell_type": "markdown",
   "metadata": {},
   "source": [
    "## Epsilon-Greedy Strategy for Online Advertising"
   ]
  },
  {
   "cell_type": "markdown",
   "metadata": {},
   "source": [
    "In this section, we delve into the practical implementation of the epsilon-greedy strategy to tackle the challenges posed by the online advertising problem. The epsilon-greedy strategy serves as a potent tool for effectively addressing the trade-off between exploration and exploitation in choosing ad variations to present to users. The primary objective remains to enhance click-through rates (CTR) or other essential performance metrics while accounting for user behavior's inherent unpredictability."
   ]
  },
  {
   "cell_type": "markdown",
   "metadata": {},
   "source": [
    "### Epsilon-Greedy Strategy Explained\n",
    "The epsilon-greedy strategy encompasses the following fundamental steps:\n",
    "\n",
    "#### 1. Initialization:\n",
    "- We initialize arrays for action values (`Q`) and total impressions (`N`) for each ad variation.\n",
    "- `eps` is a vital parameter, representing the exploration rate (epsilon) that influences the strategy's behavior.\n",
    "\n",
    "#### 2. Ad Selection:\n",
    "- The selection of the ad variation to display is pivotal. If a randomly generated number is less than or equal to `eps`, the strategy explores by choosing a random ad variation.\n",
    "- Conversely, if the random number is greater than `eps`, the strategy exploits by selecting the ad variation with the highest action value (`Q`).\n",
    "\n",
    "#### 3. Observing Rewards and Updating Values:\n",
    "- We observe the reward obtained from the displayed ad variation and subsequently update the action value (`Q`) and total impressions (`N`) associated with that ad.\n",
    "\n",
    "#### 4. Calculating Rewards:\n",
    "- The total reward obtained from the displayed ads is continuously calculated and updated.\n",
    "- The average reward obtained up to that point in time is also computed and recorded.\n",
    "\n",
    "By running the epsilon-greedy strategy with different epsilon values (`0.01`, `0.05`, `0.1`, `0.2`), we can compare and analyze the strategy's performance under various exploration-exploitation trade-offs."
   ]
  },
  {
   "cell_type": "markdown",
   "metadata": {},
   "source": [
    "#### Epsilon = 0.1"
   ]
  },
  {
   "cell_type": "code",
   "execution_count": 3,
   "metadata": {},
   "outputs": [],
   "source": [
    "eps = 0.1\n",
    "n_prod = 100000\n",
    "n_ads = len(ads)\n",
    "Q = np.zeros(n_ads)\n",
    "N = np.zeros(n_ads)\n",
    "total_reward = 0\n",
    "avg_rewards = []"
   ]
  },
  {
   "cell_type": "code",
   "execution_count": 4,
   "metadata": {},
   "outputs": [],
   "source": [
    "import pandas as pd\n",
    "\n",
    "ad_chosen = np.random.randint(n_ads)\n",
    "for i in range(n_prod):\n",
    "    R = ads[ad_chosen].display_ad()\n",
    "    N[ad_chosen] += 1\n",
    "    Q[ad_chosen] += (1 / N[ad_chosen]) * (R - Q[ad_chosen])\n",
    "    total_reward += R\n",
    "    avg_reward_so_far = total_reward / (i + 1)\n",
    "    avg_rewards.append(avg_reward_so_far)\n",
    "\n",
    "    # select next ad to display\n",
    "    if np.random.uniform() <= eps:\n",
    "        ad_chosen = np.random.randint(n_ads)\n",
    "    else:\n",
    "        ad_chosen = np.argmax(Q)\n",
    "\n",
    "\n",
    "df_reward_comparison = pd.DataFrame()\n",
    "df_reward_comparison['e-greedy: {}'.format(eps)] = avg_rewards"
   ]
  },
  {
   "cell_type": "markdown",
   "metadata": {},
   "source": [
    "#### Epsilon = 0.2"
   ]
  },
  {
   "cell_type": "code",
   "execution_count": 5,
   "metadata": {},
   "outputs": [],
   "source": [
    "eps = 0.2\n",
    "n_prod = 100000\n",
    "n_ads = len(ads)\n",
    "Q = np.zeros(n_ads)\n",
    "N = np.zeros(n_ads)\n",
    "total_reward = 0\n",
    "avg_rewards = []\n",
    "\n",
    "import pandas as pd\n",
    "\n",
    "ad_chosen = np.random.randint(n_ads)\n",
    "for i in range(n_prod):\n",
    "    R = ads[ad_chosen].display_ad()\n",
    "    N[ad_chosen] += 1\n",
    "    Q[ad_chosen] += (1 / N[ad_chosen]) * (R - Q[ad_chosen])\n",
    "    total_reward += R\n",
    "    avg_reward_so_far = total_reward / (i + 1)\n",
    "    avg_rewards.append(avg_reward_so_far)\n",
    "\n",
    "    # select next ad to display\n",
    "    if np.random.uniform() <= eps:\n",
    "        ad_chosen = np.random.randint(n_ads)\n",
    "    else:\n",
    "        ad_chosen = np.argmax(Q)\n",
    "\n",
    "df_reward_comparison['e-greedy: {}'.format(eps)] = avg_rewards"
   ]
  },
  {
   "cell_type": "markdown",
   "metadata": {},
   "source": [
    "#### Epsilon = 0.01"
   ]
  },
  {
   "cell_type": "code",
   "execution_count": 6,
   "metadata": {},
   "outputs": [],
   "source": [
    "eps = 0.01\n",
    "n_prod = 100000\n",
    "n_ads = len(ads)\n",
    "Q = np.zeros(n_ads)\n",
    "N = np.zeros(n_ads)\n",
    "total_reward = 0\n",
    "avg_rewards = []\n",
    "\n",
    "import pandas as pd\n",
    "\n",
    "ad_chosen = np.random.randint(n_ads)\n",
    "for i in range(n_prod):\n",
    "    R = ads[ad_chosen].display_ad()\n",
    "    N[ad_chosen] += 1\n",
    "    Q[ad_chosen] += (1 / N[ad_chosen]) * (R - Q[ad_chosen])\n",
    "    total_reward += R\n",
    "    avg_reward_so_far = total_reward / (i + 1)\n",
    "    avg_rewards.append(avg_reward_so_far)\n",
    "\n",
    "    # select next ad to display\n",
    "    if np.random.uniform() <= eps:\n",
    "        ad_chosen = np.random.randint(n_ads)\n",
    "    else:\n",
    "        ad_chosen = np.argmax(Q)\n",
    "\n",
    "df_reward_comparison['e-greedy: {}'.format(eps)] = avg_rewards"
   ]
  },
  {
   "cell_type": "markdown",
   "metadata": {},
   "source": [
    "#### Epsilon = 0.05"
   ]
  },
  {
   "cell_type": "code",
   "execution_count": 7,
   "metadata": {},
   "outputs": [],
   "source": [
    "eps = 0.05\n",
    "n_prod = 100000\n",
    "n_ads = len(ads)\n",
    "Q = np.zeros(n_ads)\n",
    "N = np.zeros(n_ads)\n",
    "total_reward = 0\n",
    "avg_rewards = []\n",
    "\n",
    "import pandas as pd\n",
    "\n",
    "ad_chosen = np.random.randint(n_ads)\n",
    "for i in range(n_prod):\n",
    "    R = ads[ad_chosen].display_ad()\n",
    "    N[ad_chosen] += 1\n",
    "    Q[ad_chosen] += (1 / N[ad_chosen]) * (R - Q[ad_chosen])\n",
    "    total_reward += R\n",
    "    avg_reward_so_far = total_reward / (i + 1)\n",
    "    avg_rewards.append(avg_reward_so_far)\n",
    "\n",
    "    # select next ad to display\n",
    "    if np.random.uniform() <= eps:\n",
    "        ad_chosen = np.random.randint(n_ads)\n",
    "    else:\n",
    "        ad_chosen = np.argmax(Q)\n",
    "\n",
    "df_reward_comparison['e-greedy: {}'.format(eps)] = avg_rewards"
   ]
  },
  {
   "cell_type": "markdown",
   "metadata": {},
   "source": [
    "### Plot"
   ]
  },
  {
   "cell_type": "code",
   "execution_count": null,
   "metadata": {},
   "outputs": [],
   "source": [
    "import cufflinks as cf\n",
    "import plotly.offline\n",
    "\n",
    "cf.go_offline()\n",
    "cf.set_config_file(world_readable=True, theme=\"white\")\n",
    "\n",
    "greedy_list = ['e-greedy: 0.01', 'e-greedy: 0.05', 'e-greedy: 0.1', 'e-greedy: 0.2']\n",
    "df_reward_comparison[greedy_list].iplot(title=\"ε-Greedy Actions\", dash=['solid', 'dash', 'dashdot', 'dot'])\n",
    "xTitle='Impressions'\n",
    "yTitle='Avg. Reward'"
   ]
  },
  {
   "cell_type": "code",
   "execution_count": 8,
   "metadata": {},
   "outputs": [
    {
     "data": {
      "image/png": "[encoded data removed]",
      "text/plain": [
       "<Figure size 640x480 with 1 Axes>"
      ]
     },
     "metadata": {},
     "output_type": "display_data"
    }
   ],
   "source": [
    "import matplotlib.pyplot as plt\n",
    "\n",
    "# Create a figure and axis object\n",
    "fig, ax = plt.subplots()\n",
    "\n",
    "# Plot the average rewards for each epsilon value\n",
    "for epsilon in greedy_list:\n",
    "    ax.plot(df_reward_comparison.index, df_reward_comparison[epsilon], label=epsilon)\n",
    "\n",
    "# Set plot title and axis labels\n",
    "ax.set_title(\"ε-Greedy Actions\")\n",
    "ax.set_xlabel('Impressions')\n",
    "ax.set_ylabel('Avg. Reward')\n",
    "\n",
    "# Show the legend\n",
    "ax.legend()\n",
    "\n",
    "# Display the plot\n",
    "plt.show()"
   ]
  }
 ],
 "metadata": {
  "kernelspec": {
   "display_name": ".env-pricai",
   "language": "python",
   "name": "python3"
  },
  "language_info": {
   "codemirror_mode": {
    "name": "ipython",
    "version": 3
   },
   "file_extension": ".py",
   "mimetype": "text/x-python",
   "name": "python",
   "nbconvert_exporter": "python",
   "pygments_lexer": "ipython3",
   "version": "3.10.10"
  },
  "orig_nbformat": 4
 },
 "nbformat": 4,
 "nbformat_minor": 2
}
