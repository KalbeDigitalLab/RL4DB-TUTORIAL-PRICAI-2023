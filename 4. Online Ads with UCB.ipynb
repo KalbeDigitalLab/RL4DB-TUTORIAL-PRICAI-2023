{
 "cells": [
  {
   "cell_type": "markdown",
   "metadata": {},
   "source": [
    "# Solve Online Advertising Problem with Upper Confidence Bound"
   ]
  },
  {
   "cell_type": "markdown",
   "metadata": {},
   "source": [
    "## Create Environment"
   ]
  },
  {
   "cell_type": "markdown",
   "metadata": {},
   "source": [
    "This code simulates an environment for online advertising using the concept of Bernoulli Bandits. In online advertising, companies often need to decide which ad to display to users in real-time to maximize their click-through rates (CTR) or other performance metrics. The Bernoulli Bandit model is a simplified framework that represents this problem."
   ]
  },
  {
   "cell_type": "markdown",
   "metadata": {},
   "source": [
    "### Code Description\n",
    "\n",
    "#### Constructor:\n",
    "- The `BernoulliBandit` class has a constructor `__init__(self, p)` that takes a single parameter `p`.\n",
    "- The parameter `p` represents the probability of a user clicking on the ad when it is displayed. It is a value between 0 and 1.\n",
    "\n",
    "#### Method: `display_ad()`\n",
    "- The `display_ad()` method simulates displaying the ad to a user and returns the outcome of the ad display as a binary value (0 or 1).\n",
    "- It uses the `numpy.random.binomial(n=1, p=self.p)` function to model the Bernoulli distribution with a single trial (n=1).\n",
    "- The parameter `p` determines the probability of success (click) for the Bernoulli distribution."
   ]
  },
  {
   "cell_type": "code",
   "execution_count": 1,
   "metadata": {},
   "outputs": [],
   "source": [
    "import numpy as np\n",
    "\n",
    "class BernoulliBandit:\n",
    "    def __init__(self, p):\n",
    "        self.p = p\n",
    "\n",
    "    def display_ad(self):\n",
    "        reward = np.random.binomial(n=1, p=self.p)\n",
    "        return reward"
   ]
  },
  {
   "cell_type": "markdown",
   "metadata": {},
   "source": [
    "In this code, five different ads (`adA`, `adB`, `adC`, `adD`, and `adE`) are created as instances of the `BernoulliBandit` class, each with its own click-through probability (`p`). These probabilities represent how likely a user is to click on the respective ad when displayed.\n",
    "\n",
    "The `ads` list contains all the ad instances, allowing for easy management and comparison of different ads."
   ]
  },
  {
   "cell_type": "code",
   "execution_count": 2,
   "metadata": {},
   "outputs": [],
   "source": [
    "adA = BernoulliBandit(0.004)\n",
    "adB = BernoulliBandit(0.016)\n",
    "adC = BernoulliBandit(0.02)\n",
    "adD = BernoulliBandit(0.028)\n",
    "adE = BernoulliBandit(0.031)\n",
    "ads = [adA, adB, adC, adD, adE]"
   ]
  },
  {
   "cell_type": "markdown",
   "metadata": {},
   "source": [
    "In the context of online advertising, each ad instance in the ads list represents a different ad creative that the company wants to test. The goal is to determine which ad has the highest click-through rate (CTR) or conversion rate.\n",
    "\n",
    "To simulate the online advertising process, the company can use the display_ad() method of each ad instance to obtain a reward (0 or 1) based on the Bernoulli distribution with the corresponding click-through probability. The company can then analyze the rewards obtained for each ad and use the results to make informed decisions about which ad(s) to display more frequently to maximize their overall performance."
   ]
  },
  {
   "cell_type": "markdown",
   "metadata": {},
   "source": [
    "## Upper Confidence Bound (UCB) Algorithm for Action Selection"
   ]
  },
  {
   "cell_type": "markdown",
   "metadata": {},
   "source": [
    "In this section, we delve into the Upper Confidence Bound (UCB) algorithm, a strategy to address the exploration-exploitation dilemma in the Multi-Armed Bandit problem. The UCB algorithm elegantly combines these two aspects to guide the selection of ad variations with the potential for high reward while adapting to the uncertainty surrounding their performance. The UCB algorithm revolves around the concept of \"upper confidence bounds,\" where the algorithm strikes a balance between the estimated reward and the exploration of less-known options. The algorithm achieves this by assigning a confidence interval to each arm (ad variation), and the arm with the highest upper confidence bound is chosen."
   ]
  },
  {
   "cell_type": "markdown",
   "metadata": {},
   "source": [
    "### Algorithm Steps\n",
    "\n",
    "#### 1. Initialization:\n",
    "- The `c` parameter is introduced, influencing the exploration-exploitation trade-off. A higher `c` value encourages more exploration.\n",
    "- Arrays for action values (`Q`), total impressions (`N`), and a list to store average rewards (`avg_rewards`) are initialized.\n",
    "\n",
    "#### 2. Ad Selection:\n",
    "- For each time step (`t`), the algorithm chooses an ad variation to display.\n",
    "- If any ad variation has not been selected (`N == 0`), the algorithm randomly selects one of those unexplored variations.\n",
    "- When all variations have been explored at least once, the algorithm calculates an uncertainty term based on the number of impressions (`N`) and the logarithm of t.\n",
    "- The ad variation with the highest upper confidence bound (`Q + c * uncertainty`) is selected.\n",
    "\n",
    "\n",
    "#### 3. Observing Rewards and Updating Values:\n",
    "- The reward obtained from the displayed ad variation is observed.\n",
    "- The total impressions (`N`) of the chosen ad variation are updated, and its action value (`Q`) is updated using the incremental update rule for sample averages.\n",
    "\n",
    "#### 4. Calculating and Recording Rewards:\n",
    "- The total reward obtained from the displayed ads is calculated and updated in each time step.\n",
    "- The average reward obtained so far (`avg_reward_so_far`) is computed and added to the `avg_rewards` list."
   ]
  },
  {
   "cell_type": "markdown",
   "metadata": {},
   "source": [
    "#### UCB C = 0.1"
   ]
  },
  {
   "cell_type": "code",
   "execution_count": 3,
   "metadata": {},
   "outputs": [],
   "source": [
    "c = 0.1\n",
    "n_prod = 100000\n",
    "n_ads = len(ads)\n",
    "ad_indices = np.array(range(n_ads))\n",
    "Q = np.zeros(n_ads)\n",
    "N = np.zeros(n_ads)\n",
    "total_reward = 0\n",
    "avg_rewards = []"
   ]
  },
  {
   "cell_type": "code",
   "execution_count": 4,
   "metadata": {},
   "outputs": [],
   "source": [
    "import pandas as pd\n",
    "\n",
    "for t in range(1, n_prod + 1):\n",
    "    if any(N==0):\n",
    "        ad_chosen = np.random.choice(ad_indices[N==0])\n",
    "    else:\n",
    "        uncertainty = np.sqrt(np.log(t) / N)\n",
    "        ad_chosen = np.argmax(Q + c * uncertainty)\n",
    "    \n",
    "    R = ads[ad_chosen].display_ad()\n",
    "    N[ad_chosen] += 1\n",
    "    Q[ad_chosen] += (1 / N[ad_chosen]) * (R - Q[ad_chosen])\n",
    "    total_reward += R\n",
    "    avg_reward_so_far = total_reward / t\n",
    "    avg_rewards.append(avg_reward_so_far)\n",
    "\n",
    "\n",
    "df_reward_comparison = pd.DataFrame()\n",
    "df_reward_comparison['UCB, c={}'.format(c)] = avg_rewards"
   ]
  },
  {
   "cell_type": "markdown",
   "metadata": {},
   "source": [
    "#### UCB C = 1"
   ]
  },
  {
   "cell_type": "code",
   "execution_count": 5,
   "metadata": {},
   "outputs": [],
   "source": [
    "import pandas as pd\n",
    "\n",
    "c = 1\n",
    "n_prod = 100000\n",
    "n_ads = len(ads)\n",
    "ad_indices = np.array(range(n_ads))\n",
    "Q = np.zeros(n_ads)\n",
    "N = np.zeros(n_ads)\n",
    "total_reward = 0\n",
    "avg_rewards = []\n",
    "\n",
    "for t in range(1, n_prod + 1):\n",
    "    if any(N==0):\n",
    "        ad_chosen = np.random.choice(ad_indices[N==0])\n",
    "    else:\n",
    "        uncertainty = np.sqrt(np.log(t) / N)\n",
    "        ad_chosen = np.argmax(Q + c * uncertainty)\n",
    "    \n",
    "    R = ads[ad_chosen].display_ad()\n",
    "    N[ad_chosen] += 1\n",
    "    Q[ad_chosen] += (1 / N[ad_chosen]) * (R - Q[ad_chosen])\n",
    "    total_reward += R\n",
    "    avg_reward_so_far = total_reward / t\n",
    "    avg_rewards.append(avg_reward_so_far)\n",
    "\n",
    "df_reward_comparison['UCB, c={}'.format(c)] = avg_rewards"
   ]
  },
  {
   "cell_type": "markdown",
   "metadata": {},
   "source": [
    "#### UCB C = 10"
   ]
  },
  {
   "cell_type": "code",
   "execution_count": 6,
   "metadata": {},
   "outputs": [],
   "source": [
    "import pandas as pd\n",
    "\n",
    "c = 10\n",
    "n_prod = 100000\n",
    "n_ads = len(ads)\n",
    "ad_indices = np.array(range(n_ads))\n",
    "Q = np.zeros(n_ads)\n",
    "N = np.zeros(n_ads)\n",
    "total_reward = 0\n",
    "avg_rewards = []\n",
    "\n",
    "for t in range(1, n_prod + 1):\n",
    "    if any(N==0):\n",
    "        ad_chosen = np.random.choice(ad_indices[N==0])\n",
    "    else:\n",
    "        uncertainty = np.sqrt(np.log(t) / N)\n",
    "        ad_chosen = np.argmax(Q + c * uncertainty)\n",
    "    \n",
    "    R = ads[ad_chosen].display_ad()\n",
    "    N[ad_chosen] += 1\n",
    "    Q[ad_chosen] += (1 / N[ad_chosen]) * (R - Q[ad_chosen])\n",
    "    total_reward += R\n",
    "    avg_reward_so_far = total_reward / t\n",
    "    avg_rewards.append(avg_reward_so_far)\n",
    "\n",
    "df_reward_comparison['UCB, c={}'.format(c)] = avg_rewards"
   ]
  },
  {
   "cell_type": "markdown",
   "metadata": {},
   "source": [
    "### Plot"
   ]
  },
  {
   "cell_type": "code",
   "execution_count": null,
   "metadata": {},
   "outputs": [],
   "source": [
    "import cufflinks as cf\n",
    "\n",
    "cf.go_offline()\n",
    "cf.set_config_file(world_readable=True, theme=\"white\")\n",
    "\n",
    "ucb_list = ['UCB, c=0.1', 'UCB, c=1', 'UCB, c=10']\n",
    "best_reward = df_reward_comparison.loc[t-1,ucb_list].max()\n",
    "df_reward_comparison[ucb_list].iplot(title=\"Action Selection using UCB. Best avg. reward: {:.4f}\"\n",
    "                                    .format(best_reward),\n",
    "                                    dash = ['solid', 'dash', 'dashdot'],\n",
    "                                    xTitle='Impressions', \n",
    "                                    yTitle='Avg. Reward')"
   ]
  },
  {
   "cell_type": "code",
   "execution_count": 8,
   "metadata": {},
   "outputs": [
    {
     "data": {
      "image/png": "[encoded data removed]",
      "text/plain": [
       "<Figure size 640x480 with 1 Axes>"
      ]
     },
     "metadata": {},
     "output_type": "display_data"
    }
   ],
   "source": [
    "import matplotlib.pyplot as plt\n",
    "\n",
    "# Create a figure and axis object\n",
    "fig, ax = plt.subplots()\n",
    "\n",
    "# Plot the average rewards for each UCB configuration\n",
    "for ucb in ucb_list:\n",
    "    ax.plot(df_reward_comparison.index, df_reward_comparison[ucb], label=ucb)\n",
    "\n",
    "# Set plot title and axis labels\n",
    "best_reward = df_reward_comparison.loc[n_prod - 1, ucb_list].max()\n",
    "ax.set_title(\"Action Selection using UCB. Best avg. reward: {:.4f}\".format(best_reward))\n",
    "ax.set_xlabel('Impressions')\n",
    "ax.set_ylabel('Avg. Reward')\n",
    "\n",
    "# Show the legend\n",
    "ax.legend()\n",
    "\n",
    "# Display the plot\n",
    "plt.show()\n"
   ]
  },
  {
   "cell_type": "code",
   "execution_count": null,
   "metadata": {},
   "outputs": [],
   "source": []
  }
 ],
 "metadata": {
  "kernelspec": {
   "display_name": ".env-pricai",
   "language": "python",
   "name": "python3"
  },
  "language_info": {
   "codemirror_mode": {
    "name": "ipython",
    "version": 3
   },
   "file_extension": ".py",
   "mimetype": "text/x-python",
   "name": "python",
   "nbconvert_exporter": "python",
   "pygments_lexer": "ipython3",
   "version": "3.10.10"
  },
  "orig_nbformat": 4
 },
 "nbformat": 4,
 "nbformat_minor": 2
}
