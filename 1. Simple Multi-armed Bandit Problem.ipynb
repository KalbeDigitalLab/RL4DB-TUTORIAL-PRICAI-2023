{
 "cells": [
  {
   "cell_type": "code",
   "execution_count": 1,
   "metadata": {},
   "outputs": [],
   "source": [
    "import numpy as np\n",
    "\n",
    "class GaussianBandit(object):\n",
    "    def __init__(self, mean=0, stdev=1):\n",
    "        self.mean = mean\n",
    "        self.stdev = stdev\n",
    "\n",
    "    def pull_lever(self):\n",
    "        reward = np.random.normal(self.mean, self.stdev)\n",
    "        return np.round(reward, 1)"
   ]
  },
  {
   "cell_type": "code",
   "execution_count": 3,
   "metadata": {},
   "outputs": [],
   "source": [
    "class GaussianBanditGame(object):\n",
    "    def __init__(self, bandits):\n",
    "        self.bandits = bandits\n",
    "        np.random.shuffle(self.bandits)\n",
    "        self.reset_game()\n",
    "\n",
    "    def play(self, choice):\n",
    "        reward = self.bandits[choice - 1].pull_lever()\n",
    "        self.reward.append(reward)\n",
    "        self.total_reward += reward\n",
    "        self.n_played += 1\n",
    "        return reward\n",
    "    \n",
    "    def user_play(self):\n",
    "        self.reset_game()\n",
    "        print(\"Game started. Enter 0 as input to end the game\")\n",
    "        while True:\n",
    "            print(f\"\\n -- Round {self.n_played}\")\n",
    "            choice = int(input(f\"Choose a machine from 1 to {len(self.bandits)}: \"))\n",
    "            if choice in range(1, len(self.bandits) + 1):\n",
    "                reward = self.play(choice)\n",
    "                print(f\"Machine {choice} gave a reward of {reward}\")\n",
    "                avg_rew = self.total_reward / self.n_played\n",
    "                print(f\"Your average reward so far is {avg_rew}\")\n",
    "            else:\n",
    "                break\n",
    "        print(\"Game has ended.\")\n",
    "        if self.n_played > 0:\n",
    "            print(f\"Total reward is {self.total_reward} after {self.n_played} round(s).\")\n",
    "            avg_rew = self.total_reward / self.n_played\n",
    "            print(f\"Average reward is {avg_rew}.\")\n",
    "\n",
    "    def reset_game(self):\n",
    "        self.rewards = []\n",
    "        self.total_reward = 0\n",
    "        self.n_played = 0"
   ]
  },
  {
   "cell_type": "code",
   "execution_count": null,
   "metadata": {},
   "outputs": [],
   "source": []
  }
 ],
 "metadata": {
  "kernelspec": {
   "display_name": ".env-pricai",
   "language": "python",
   "name": "python3"
  },
  "language_info": {
   "codemirror_mode": {
    "name": "ipython",
    "version": 3
   },
   "file_extension": ".py",
   "mimetype": "text/x-python",
   "name": "python",
   "nbconvert_exporter": "python",
   "pygments_lexer": "ipython3",
   "version": "3.10.10"
  },
  "orig_nbformat": 4
 },
 "nbformat": 4,
 "nbformat_minor": 2
}
